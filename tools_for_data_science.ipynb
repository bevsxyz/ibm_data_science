{
 "cells": [
  {
   "cell_type": "markdown",
   "id": "04534339-2df8-4931-bab6-6e28c32c417d",
   "metadata": {},
   "source": [
    "# My Jupyter Notebook on IBM Watson Studio"
   ]
  },
  {
   "cell_type": "markdown",
   "id": "55baa1a8-bbb6-467b-914f-2f5588bf12d6",
   "metadata": {},
   "source": [
    "**BEVAN STANELY**\n",
    "\n",
    "Data Scientist"
   ]
  },
  {
   "cell_type": "markdown",
   "id": "802cb8f7-23f4-44e1-8100-117d12da1d65",
   "metadata": {},
   "source": [
    "*I am interested in data science because of its exploratory nature. The combination of analytics and story telling makes it exciting.*"
   ]
  },
  {
   "cell_type": "markdown",
   "id": "01ad7544-48d2-4a93-9fa4-573b5c30f831",
   "metadata": {},
   "source": [
    "### Rolls a dice once."
   ]
  },
  {
   "cell_type": "code",
   "execution_count": 11,
   "id": "17a21edc-1d6f-4aea-a547-689b7ddc82d6",
   "metadata": {},
   "outputs": [
    {
     "name": "stdout",
     "output_type": "stream",
     "text": [
      "The dice roll turns out to be 4.\n"
     ]
    }
   ],
   "source": [
    "import random as rnd\n",
    "dice_roll = rnd.randint(1,6)\n",
    "print(f'The dice roll turns out to be {dice_roll}.')"
   ]
  },
  {
   "cell_type": "markdown",
   "id": "859e52ae-ac98-46f6-a63d-285e978f2ae0",
   "metadata": {},
   "source": [
    "Check out my website [https://bevs.xyz](https://bevs.xyz).\n",
    "\n",
    "> Quote me ;)\n",
    "<hr>\n",
    "\n",
    "| Car | Ball |\n",
    "| -- |--|\n",
    "|1|2|\n",
    "|3|4| <!-- Sorry about the formatting-->\n",
    "\n",
    "<hr>\n",
    "\n",
    "```python\n",
    "import me as me # Not to be taken programatically\n",
    "```\n",
    "<hr>\n",
    "\n",
    "How about a cute cat image?\n",
    "\n",
    "![](http://papers.co/wallpaper/papers.co-mi35-cute-cat-look-animal-love-nature-23-wallpaper.jpg)\n",
    "\n",
    "- Bullet 1\n",
    "- Bullet 2\n",
    "    1. Number 1\n",
    "    2. NUmber 2\n",
    "    3. ~Strikethrough~"
   ]
  }
 ],
 "metadata": {
  "kernelspec": {
   "display_name": "Python 3 (ipykernel)",
   "language": "python",
   "name": "python3"
  },
  "language_info": {
   "codemirror_mode": {
    "name": "ipython",
    "version": 3
   },
   "file_extension": ".py",
   "mimetype": "text/x-python",
   "name": "python",
   "nbconvert_exporter": "python",
   "pygments_lexer": "ipython3",
   "version": "3.10.6"
  }
 },
 "nbformat": 4,
 "nbformat_minor": 5
}
